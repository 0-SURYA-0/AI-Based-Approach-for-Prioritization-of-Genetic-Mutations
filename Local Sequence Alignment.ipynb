{
 "cells": [
  {
   "cell_type": "code",
   "execution_count": 5,
   "metadata": {},
   "outputs": [
    {
     "name": "stdout",
     "output_type": "stream",
     "text": [
      "target            0 GGGTTTCTGCAGAGTCTACTTCAGAAGCGGAGGCACTGGGAGTCCGGTTTGGGATTGCCA\n",
      "                  0 ||||------|-|----|-----|--|---|---|-----|------------|-----|\n",
      "query             0 GGGT------A-A----A-----G--G---A---A-----A------------A-----A\n",
      "\n",
      "target           60 GGCTGTGGTTGTGAGTCTGAGCTTGTGAGCGGCTGTGGCGCCCCAACTCTTCGCCAGCAT\n",
      "                 60 -------------||-|-|--|-----||---------------|--||||-|---|---\n",
      "query            14 -------------AG-C-G--C-----AG---------------A--TCTT-G---G---\n",
      "\n",
      "target          120 ATCATCCCGGCAGGTAACCTCAGGCTCCAAGGGGCGGCCCCGGTCCCTGGCTGTGGAGGG\n",
      "                120 --------|-----|-------|--|----||------------------------|||-\n",
      "query            28 --------G-----T-------G--T----GG------------------------AGG-\n",
      "\n",
      "target          180 GTGGCTCTAATTCCGCAGAAGGCAGGAATGGGGTAAAGGAAAAAAGCGCAGATCTTGGGT\n",
      "                180 ----|---|-----|-------------|-----------------|--|-|----||--\n",
      "query            37 ----C---A-----G-------------T-----------------C--A-A----GG--\n",
      "\n",
      "target          240 GTGGAGGGAGTCAAGGCCTGCGTGCAAAGAAGGGAACAAA 280\n",
      "                240 -----------|----|-|||||||||||||||||||||| 280\n",
      "query            46 -----------C----C-TGCGTGCAAAGAAGGGAACAAA  70\n",
      "\n",
      "Alignment score: 70.0\n",
      "Alignment position in healthy sequence: Start - 0, End - 4\n"
     ]
    }
   ],
   "source": [
    "from Bio import SeqIO\n",
    "from Bio.Align import PairwiseAligner\n",
    "\n",
    "def read_sequence(file_path):\n",
    "    with open(file_path, 'r') as file:\n",
    "        lines = file.readlines()[1:]  # Ignore the first line (sequence description)\n",
    "        sequence = ''.join(line.strip() for line in lines)\n",
    "    return sequence\n",
    "\n",
    "def local_sequence_alignment(healthy_seq_file, mutated_seq_file):\n",
    "    # Read healthy and mutated sequences from .fna files\n",
    "    healthy_seq = read_sequence(healthy_seq_file)\n",
    "    mutated_seq = read_sequence(mutated_seq_file)\n",
    "    \n",
    "    # Initialize Smith-Waterman aligner\n",
    "    aligner = PairwiseAligner()\n",
    "    aligner.mode = 'local'\n",
    "    \n",
    "    # Perform alignment\n",
    "    alignments = aligner.align(healthy_seq, mutated_seq)\n",
    "    \n",
    "    # Check if mutated sequence aligns within the healthy sequence\n",
    "    for alignment in alignments:\n",
    "        print(alignment)\n",
    "        print(f\"Alignment score: {alignment.score}\")\n",
    "        \n",
    "        # Access alignment positions using coordinates\n",
    "        start, end = alignment.coordinates[0][0], alignment.coordinates[0][1]\n",
    "        print(f\"Alignment position in healthy sequence: Start - {start}, End - {end}\")\n",
    "        \n",
    "        # Exit after the first meaningful alignment\n",
    "        if alignment.score > 0:\n",
    "            break\n",
    "\n",
    "# Example usage\n",
    "healthy_seq_file = 'gene_DNA_Assembly_GRCh38.fna'\n",
    "mutated_seq_file = 'Mutation_train/Mutation_train1.fna'\n",
    "local_sequence_alignment(healthy_seq_file, mutated_seq_file)"
   ]
  },
  {
   "cell_type": "code",
   "execution_count": null,
   "metadata": {},
   "outputs": [],
   "source": []
  }
 ],
 "metadata": {
  "kernelspec": {
   "display_name": "tf-gpu",
   "language": "python",
   "name": "python3"
  },
  "language_info": {
   "codemirror_mode": {
    "name": "ipython",
    "version": 3
   },
   "file_extension": ".py",
   "mimetype": "text/x-python",
   "name": "python",
   "nbconvert_exporter": "python",
   "pygments_lexer": "ipython3",
   "version": "3.8.20"
  }
 },
 "nbformat": 4,
 "nbformat_minor": 2
}
